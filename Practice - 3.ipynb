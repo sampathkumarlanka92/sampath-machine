{
 "cells": [
  {
   "cell_type": "markdown",
   "metadata": {},
   "source": [
    "### 31. shuffle deck of cards and draw n no. of random cards"
   ]
  },
  {
   "cell_type": "code",
   "execution_count": 8,
   "metadata": {},
   "outputs": [
    {
     "name": "stdout",
     "output_type": "stream",
     "text": [
      "Enter a no. of cards to be drawn: 8\n",
      "Cards drawn are: \n",
      "1 Club\n",
      "2 Spade\n",
      "8 Spade\n",
      "9 Spade\n",
      "11 Spade\n",
      "4 Spade\n",
      "13 Diamond\n",
      "6 Diamond\n"
     ]
    }
   ],
   "source": [
    "import itertools\n",
    "import random\n",
    "\n",
    "deck = list(itertools.product(range(1, 14), ['Spade', 'Heart', 'Diamond', 'Club']))\n",
    "\n",
    "random.shuffle(deck)\n",
    "\n",
    "n = int(input('Enter a no. of cards to be drawn: '))\n",
    "\n",
    "print('Cards drawn are: ')\n",
    "for i in range(n):\n",
    "    print(deck[i][0], deck[i][1])"
   ]
  },
  {
   "cell_type": "markdown",
   "metadata": {},
   "source": [
    "### 32. display fibonacci series using recursion"
   ]
  },
  {
   "cell_type": "code",
   "execution_count": 12,
   "metadata": {},
   "outputs": [
    {
     "name": "stdout",
     "output_type": "stream",
     "text": [
      "Enter no. of terms8\n",
      "Fibonacci Series: \n",
      "0\n",
      "1\n",
      "1\n",
      "2\n",
      "3\n",
      "5\n",
      "8\n",
      "13\n"
     ]
    }
   ],
   "source": [
    "def rec_fibn(x):\n",
    "    if x <= 1:\n",
    "        return x\n",
    "\n",
    "    else:\n",
    "        return (rec_fibn(x - 1) + rec_fibn(x - 2))\n",
    "\n",
    "terms = int(input('Enter no. of terms'))\n",
    "\n",
    "if terms <= 0:\n",
    "    print('Enter positive number')\n",
    "\n",
    "else:\n",
    "    print('Fibonacci Series: ')\n",
    "    for i in range(terms):\n",
    "        print(rec_fibn(i))"
   ]
  },
  {
   "cell_type": "markdown",
   "metadata": {},
   "source": [
    "### 33. find sum of natural numbers using recursion"
   ]
  },
  {
   "cell_type": "code",
   "execution_count": 15,
   "metadata": {},
   "outputs": [
    {
     "name": "stdout",
     "output_type": "stream",
     "text": [
      "Enter no. of terms: 10\n",
      "55\n"
     ]
    }
   ],
   "source": [
    "def rec_sum(x):\n",
    "    if x <= 1:\n",
    "        return x\n",
    "    else:\n",
    "        return (x + rec_sum(x - 1))\n",
    "    \n",
    "terms = int(input('Enter no. of terms: '))\n",
    "\n",
    "if terms < 0:\n",
    "    print('Enter positive number')\n",
    "\n",
    "else:\n",
    "    print(rec_sum(terms))"
   ]
  },
  {
   "cell_type": "markdown",
   "metadata": {},
   "source": [
    "### 34. find factorial using recursion"
   ]
  },
  {
   "cell_type": "code",
   "execution_count": 25,
   "metadata": {},
   "outputs": [
    {
     "name": "stdout",
     "output_type": "stream",
     "text": [
      "Enter a number to find its factorial: 6\n",
      "720\n"
     ]
    }
   ],
   "source": [
    "def rec_fact(x): \n",
    "    if x <= 1:\n",
    "        return 1\n",
    "    else:\n",
    "        return (x * rec_fact(x - 1))\n",
    "    \n",
    "num = int(input('Enter a number to find its factorial: '))\n",
    "\n",
    "print(rec_fact(num))"
   ]
  },
  {
   "cell_type": "markdown",
   "metadata": {},
   "source": [
    "### 35. convert decimal to binary using recursion"
   ]
  },
  {
   "cell_type": "code",
   "execution_count": 29,
   "metadata": {},
   "outputs": [
    {
     "name": "stdout",
     "output_type": "stream",
     "text": [
      "Enter a number to convert it to binary: 15\n",
      "1111"
     ]
    }
   ],
   "source": [
    "def conv_bin(x):\n",
    "    if x > 1:\n",
    "        conv_bin(x // 2)\n",
    "    print(x % 2, end = '')\n",
    "\n",
    "num = int(input('Enter a number to convert it to binary: '))\n",
    "\n",
    "conv_bin(num)"
   ]
  },
  {
   "cell_type": "markdown",
   "metadata": {},
   "source": [
    "### 36. create a matrix of n x m  n--> rows m --> columns"
   ]
  },
  {
   "cell_type": "code",
   "execution_count": 23,
   "metadata": {},
   "outputs": [
    {
     "name": "stdout",
     "output_type": "stream",
     "text": [
      "Enter no. of rows: 2\n",
      "Enter no. of coloumns: 3\n",
      "Enter element: 1\n",
      "Enter element: 2\n",
      "Enter element: 3\n",
      "Enter element: 4\n",
      "Enter element: 5\n",
      "Enter element: 6\n",
      "[[1, 2, 3], [4, 5, 6]]\n"
     ]
    }
   ],
   "source": [
    "n = int(input('Enter no. of rows: '))\n",
    "m = int(input('Enter no. of coloumns: '))\n",
    "\n",
    "a = [0] * n\n",
    "for i in range(n):\n",
    "    a[i] = [0] * m\n",
    "    \n",
    "for i in range(n):\n",
    "    for j in range(m):\n",
    "        a[i][j] = int(input('Enter element: '))\n",
    "\n",
    "print(a)"
   ]
  },
  {
   "cell_type": "markdown",
   "metadata": {},
   "source": [
    "### 37. Transpose of a matrix"
   ]
  },
  {
   "cell_type": "code",
   "execution_count": 11,
   "metadata": {},
   "outputs": [
    {
     "name": "stdout",
     "output_type": "stream",
     "text": [
      "Enter no. of rows: 2\n",
      "Enter no. of coloumns: 3\n",
      "Enter element: 1\n",
      "Enter element: 2\n",
      "Enter element: 3\n",
      "Enter element: 4\n",
      "Enter element: 5\n",
      "Enter element: 6\n",
      "[1, 2, 3]\n",
      "[4, 5, 6]\n",
      "\n",
      "Transpose of matrix a is: \n",
      "[1, 4]\n",
      "[2, 5]\n",
      "[3, 6]\n"
     ]
    }
   ],
   "source": [
    "n = int(input('Enter no. of rows: '))\n",
    "m = int(input('Enter no. of coloumns: '))\n",
    "\n",
    "a = [0] * n\n",
    "for i in range(n):\n",
    "    a[i] = [0] * m\n",
    "\n",
    "rs = [0] * m\n",
    "for i in range(m):\n",
    "    rs[i] = [0] * n\n",
    "    \n",
    "for i in range(n):\n",
    "    for j in range(m):\n",
    "        a[i][j] = int(input('Enter element: '))\n",
    "\n",
    "for item in a:\n",
    "    print(item)\n",
    "print()\n",
    "print('Transpose of matrix a is: ')\n",
    "\n",
    "for i in range(len(a)):\n",
    "    for j in range(len(a[0])):\n",
    "        rs[j][i] = a[i][j]\n",
    "\n",
    "\n",
    "for r in rs:\n",
    "    print(r)"
   ]
  },
  {
   "cell_type": "markdown",
   "metadata": {},
   "source": [
    "### 38. add two matrices"
   ]
  },
  {
   "cell_type": "code",
   "execution_count": 18,
   "metadata": {},
   "outputs": [
    {
     "name": "stdout",
     "output_type": "stream",
     "text": [
      "Enter no. of rows of mat1: 1\n",
      "Enter no. of columns of mat1: 2\n",
      "Enter no. of rows of mat2: 1\n",
      "Enter no. of columns of mat2: 2\n",
      "Enter mat1 element: 1\n",
      "Enter mat2 element: 2\n",
      "Enter mat1 element: 3\n",
      "Enter mat2 element: 4\n",
      "[[1, 3]]\n",
      "[[2, 4]]\n",
      "[[3, 7]]\n"
     ]
    }
   ],
   "source": [
    "n1 = int(input('Enter no. of rows of mat1: '))\n",
    "m1 = int(input('Enter no. of columns of mat1: '))\n",
    "n2 = int(input('Enter no. of rows of mat2: '))\n",
    "m2 = int(input('Enter no. of columns of mat2: '))\n",
    "\n",
    "if n1 != n2 or m1 != m2:\n",
    "    print('Matrix addition not possible for different order')\n",
    "\n",
    "else:\n",
    "    mat1 = [0] * n1\n",
    "    mat2 = [0] * n2\n",
    "    rs = [0] * n1\n",
    "    \n",
    "    for i in range(n1):\n",
    "        mat1[i] = [0] * m1\n",
    "        mat2[i] = [0] * m2\n",
    "        rs[i] = [0] * m1\n",
    "\n",
    "    for i in range(n1):\n",
    "        for j in range(m1):\n",
    "            mat1[i][j] = int(input('Enter mat1 element: '))\n",
    "            mat2[i][j] = int(input('Enter mat2 element: '))\n",
    "            rs[i][j] =  mat1[i][j] +  mat2[i][j]\n",
    "\n",
    "\n",
    "    print(mat1)\n",
    "    print(mat2)\n",
    "    print(rs)"
   ]
  },
  {
   "cell_type": "markdown",
   "metadata": {},
   "source": [
    "### 39. multiply two matrices"
   ]
  },
  {
   "cell_type": "code",
   "execution_count": 27,
   "metadata": {},
   "outputs": [
    {
     "name": "stdout",
     "output_type": "stream",
     "text": [
      "Enter no. of rows of mat1: 2\n",
      "Enter no. of columns of mat1: 3\n",
      "Enter no. of rows of mat2: 3\n",
      "Enter no. of columns of mat2: 2\n",
      "Enter mat1 element: 1\n",
      "Enter mat1 element: 2\n",
      "Enter mat1 element: 3\n",
      "Enter mat1 element: 4\n",
      "Enter mat1 element: 5\n",
      "Enter mat1 element: 6\n",
      "Enter mat2 element: 7\n",
      "Enter mat2 element: 8\n",
      "Enter mat2 element: 9\n",
      "Enter mat2 element: 10\n",
      "Enter mat2 element: 11\n",
      "Enter mat2 element: 12\n",
      "[[1, 2, 3], [4, 5, 6]]\n",
      "[[7, 8], [9, 10], [11, 12]]\n",
      "[[0, 0], [0, 0]]\n",
      "\n",
      "[[1, 2, 3], [4, 5, 6]]\n",
      "[[7, 8], [9, 10], [11, 12]]\n",
      "[[58, 64], [139, 154]]\n"
     ]
    }
   ],
   "source": [
    "n1 = int(input('Enter no. of rows of mat1: '))\n",
    "m1 = int(input('Enter no. of columns of mat1: '))\n",
    "n2 = int(input('Enter no. of rows of mat2: '))\n",
    "m2 = int(input('Enter no. of columns of mat2: '))\n",
    "\n",
    "if m1 != n2:\n",
    "    print('Matrix multiplication not possible')\n",
    "\n",
    "else:\n",
    "    mat1 = [0] * n1\n",
    "    for i in range(n1):\n",
    "        mat1[i] = [0] * m1\n",
    "\n",
    "    mat2 = [0] * n2\n",
    "    for i in range(n2):\n",
    "        mat2[i] = [0] * m2\n",
    "\n",
    "    rs = [0] * n1\n",
    "    for i in range(n1):\n",
    "        rs[i] = [0] * m2\n",
    "\n",
    "    for i in range(n1):\n",
    "        for j in range(m1):\n",
    "            mat1[i][j] = int(input('Enter mat1 element: '))\n",
    "            \n",
    "    for i in range(n2):\n",
    "        for j in range(m2):\n",
    "            mat2[i][j] = int(input('Enter mat2 element: '))\n",
    "\n",
    "    print(mat1)\n",
    "    print(mat2)\n",
    "    print(rs)\n",
    "    \n",
    "    for i in range(len(mat1)):\n",
    "        for j in range(len(mat2[0])):\n",
    "            for k in range(len(mat2)):\n",
    "                rs[i][j] += mat1[i][k] * mat2[k][j]\n",
    "    print()\n",
    "    print(mat1)\n",
    "    print(mat2)\n",
    "    print(rs)"
   ]
  },
  {
   "cell_type": "markdown",
   "metadata": {},
   "source": [
    "### 40. check string is palindrome or not"
   ]
  },
  {
   "cell_type": "code",
   "execution_count": 55,
   "metadata": {},
   "outputs": [
    {
     "name": "stdout",
     "output_type": "stream",
     "text": [
      "Enter a string: malayalam\n",
      "s: malayalam\n",
      "malayalam is palindrome\n"
     ]
    }
   ],
   "source": [
    "s = input('Enter a string: ')\n",
    "\n",
    "s = s.casefold()\n",
    "print('s:', s)\n",
    "rev_s = reversed(s)\n",
    "\n",
    "\n",
    "if list(s) == list(rev_s):\n",
    "    print(s + ' is palindrome')\n",
    "else:\n",
    "    print(s + ' is not palindrome')"
   ]
  },
  {
   "cell_type": "markdown",
   "metadata": {},
   "source": [
    "### 41. remove punctuation marks from string"
   ]
  },
  {
   "cell_type": "code",
   "execution_count": 73,
   "metadata": {},
   "outputs": [
    {
     "name": "stdout",
     "output_type": "stream",
     "text": [
      "Enter a string: Hello!!!, ##Hai @@Bye ---.\n",
      "Hello Hai Bye \n"
     ]
    }
   ],
   "source": [
    "punctuations = '''!@#$%^&*()_-~,./<>?'\"[]{};\\:'''\n",
    "\n",
    "s = input('Enter a string: ')\n",
    "\n",
    "no_punc = ''\n",
    "for c in s:\n",
    "    if c not in punctuations:\n",
    "        no_punc = no_punc + c\n",
    "\n",
    "print(no_punc)"
   ]
  },
  {
   "cell_type": "markdown",
   "metadata": {},
   "source": [
    "### 42. sort words in alphabetical order"
   ]
  },
  {
   "cell_type": "code",
   "execution_count": 81,
   "metadata": {},
   "outputs": [
    {
     "name": "stdout",
     "output_type": "stream",
     "text": [
      "Enter the string: Hai hello Big bad again when Where then Now\n",
      "s: Hai hello Big bad again when Where then Now\n",
      "again\n",
      "bad\n",
      "big\n",
      "hai\n",
      "hello\n",
      "now\n",
      "then\n",
      "when\n",
      "where\n"
     ]
    }
   ],
   "source": [
    "s = input('Enter the string: ')\n",
    "\n",
    "print('s:', s)\n",
    "s = s.casefold()\n",
    "words = s.split()\n",
    "\n",
    "words.sort()\n",
    "\n",
    "for w in words:\n",
    "    print(w)"
   ]
  },
  {
   "cell_type": "markdown",
   "metadata": {},
   "source": [
    "### 43. arrange words in sentence in alphabetical order"
   ]
  },
  {
   "cell_type": "code",
   "execution_count": 79,
   "metadata": {},
   "outputs": [
    {
     "name": "stdout",
     "output_type": "stream",
     "text": [
      "Enter the string: can help you score big playing Words With Friends\n",
      "s: can help you score big playing Words With Friends\n",
      " big can friends help playing score with words you\n"
     ]
    }
   ],
   "source": [
    "s = input('Enter the string: ')\n",
    "\n",
    "print('s:', s)\n",
    "s = s.casefold()\n",
    "words = s.split()\n",
    "\n",
    "words.sort()\n",
    "\n",
    "sentence = ''\n",
    "for w in words:\n",
    "    sentence = sentence + ' ' + w\n",
    "\n",
    "print(sentence)"
   ]
  },
  {
   "cell_type": "markdown",
   "metadata": {},
   "source": [
    "### 44. count vowels and consonants in sentence"
   ]
  },
  {
   "cell_type": "code",
   "execution_count": 85,
   "metadata": {},
   "outputs": [
    {
     "name": "stdout",
     "output_type": "stream",
     "text": [
      "Enter a sentence: print('No. of Vowels: ', vowel_cnt)\n",
      "sentence: print('No. of Vowels: ', vowel_cnt)\n",
      "No. of Vowels:  7\n",
      "No. of Consonant:  16\n"
     ]
    }
   ],
   "source": [
    "vowels = ['a', 'e', 'i', 'o', 'u']\n",
    "punctuations = '''!@#$%^&*()_-~,./<>?'\"[]{};\\: '''\n",
    "vowel_cnt = 0\n",
    "cnsnt_cnt = 0\n",
    "\n",
    "sent = input('Enter a sentence: ')\n",
    "sent.casefold()\n",
    "print('sentence:', sent)\n",
    "\n",
    "for i in sent:\n",
    "    if i in vowels:\n",
    "        vowel_cnt += 1\n",
    "    elif i not in punctuations:\n",
    "        cnsnt_cnt += 1\n",
    "    \n",
    "print('No. of Vowels: ', vowel_cnt)\n",
    "print('No. of Consonant: ', cnsnt_cnt)"
   ]
  },
  {
   "cell_type": "markdown",
   "metadata": {},
   "source": [
    "### 45. count no. of each vowels in sentence"
   ]
  },
  {
   "cell_type": "code",
   "execution_count": 1,
   "metadata": {},
   "outputs": [
    {
     "name": "stdout",
     "output_type": "stream",
     "text": [
      "Enter a sentence: count no. of each vowels in sentence\n",
      "sentence: count no. of each vowels in sentence\n",
      "{'a': 1, 'e': 5, 'i': 1, 'o': 4, 'u': 1}\n"
     ]
    }
   ],
   "source": [
    "vowels = ['a', 'e', 'i', 'o', 'u']\n",
    "\n",
    "sent = input('Enter a sentence: ')\n",
    "sent.casefold()\n",
    "print('sentence:', sent)\n",
    "\n",
    "cnt = {}.fromkeys(vowels, 0)\n",
    "\n",
    "for i in sent:\n",
    "    if i in vowels:\n",
    "        cnt[i] += 1\n",
    "    \n",
    "print(cnt)"
   ]
  },
  {
   "cell_type": "code",
   "execution_count": null,
   "metadata": {},
   "outputs": [],
   "source": []
  }
 ],
 "metadata": {
  "kernelspec": {
   "display_name": "Python 3",
   "language": "python",
   "name": "python3"
  },
  "language_info": {
   "codemirror_mode": {
    "name": "ipython",
    "version": 3
   },
   "file_extension": ".py",
   "mimetype": "text/x-python",
   "name": "python",
   "nbconvert_exporter": "python",
   "pygments_lexer": "ipython3",
   "version": "3.6.5"
  }
 },
 "nbformat": 4,
 "nbformat_minor": 2
}

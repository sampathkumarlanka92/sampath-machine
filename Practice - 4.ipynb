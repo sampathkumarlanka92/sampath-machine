{
 "cells": [
  {
   "cell_type": "markdown",
   "metadata": {},
   "source": [
    "## https://codescracker.com/python/program/index.htm"
   ]
  },
  {
   "cell_type": "markdown",
   "metadata": {},
   "source": [
    "### 46. print hello world"
   ]
  },
  {
   "cell_type": "code",
   "execution_count": 1,
   "metadata": {},
   "outputs": [
    {
     "name": "stdout",
     "output_type": "stream",
     "text": [
      "Hello World!!\n"
     ]
    }
   ],
   "source": [
    "print('Hello World!!')"
   ]
  },
  {
   "cell_type": "markdown",
   "metadata": {},
   "source": [
    "### 47. get input from user"
   ]
  },
  {
   "cell_type": "code",
   "execution_count": 12,
   "metadata": {},
   "outputs": [
    {
     "name": "stdout",
     "output_type": "stream",
     "text": [
      "Enter integer value: 22\n",
      "Enter float value: 11.234\n",
      "Enter string: hello world\n",
      "\n",
      "Integer value: 22\n",
      "Float value: 11.234\n",
      "String value: hello world\n"
     ]
    }
   ],
   "source": [
    "a_int = int(input('Enter integer value: '))\n",
    "a_float = float(input('Enter float value: '))\n",
    "a_str = input('Enter string: ')\n",
    "\n",
    "print()\n",
    "print('Integer value:', a_int)\n",
    "print('Float value:', a_float)\n",
    "print('String value:', a_str)"
   ]
  },
  {
   "cell_type": "markdown",
   "metadata": {},
   "source": [
    "### 48. add two numbers"
   ]
  },
  {
   "cell_type": "code",
   "execution_count": 13,
   "metadata": {},
   "outputs": [
    {
     "name": "stdout",
     "output_type": "stream",
     "text": [
      "Enter a_integer value: 10\n",
      "Enter b_integer value: 5\n",
      "\n",
      "Integer value: 10\n",
      "Integer value: 10\n",
      "Sum of 10 and 5 : 15\n"
     ]
    }
   ],
   "source": [
    "a_int = int(input('Enter a_integer value: '))\n",
    "b_int = int(input('Enter b_integer value: '))\n",
    "\n",
    "print()\n",
    "print('Integer value:', a_int)\n",
    "print('Integer value:', a_int)\n",
    "\n",
    "s = a_int + b_int\n",
    "\n",
    "print('Sum of %d and %d : %d' % (a_int, b_int, s))"
   ]
  },
  {
   "cell_type": "markdown",
   "metadata": {},
   "source": [
    "### 49. check even or odd. use try and except"
   ]
  },
  {
   "cell_type": "code",
   "execution_count": 8,
   "metadata": {},
   "outputs": [
    {
     "name": "stdout",
     "output_type": "stream",
     "text": [
      "Enter integer value: 22.35\n",
      "Please, Enter a integer number...!!\n"
     ]
    }
   ],
   "source": [
    "x = False\n",
    "\n",
    "try:\n",
    "    val = int(input('Enter integer value: '))\n",
    "except ValueError:\n",
    "    x = True\n",
    "    print('Please, Enter a integer number...!!')\n",
    "\n",
    "\n",
    "if x == True:\n",
    "    pass\n",
    "\n",
    "else:\n",
    "    if val % 2 == 0:\n",
    "        print('%d is even number' % val)\n",
    "\n",
    "    else:\n",
    "        print('%d is odd number' % val)"
   ]
  },
  {
   "cell_type": "markdown",
   "metadata": {},
   "source": [
    "### 50. check prime or not. use try and except"
   ]
  },
  {
   "cell_type": "code",
   "execution_count": 17,
   "metadata": {},
   "outputs": [
    {
     "name": "stdout",
     "output_type": "stream",
     "text": [
      "Enter integer value: 11\n",
      "11 is a prime number\n"
     ]
    }
   ],
   "source": [
    "x = False\n",
    "\n",
    "try:\n",
    "    val = int(input('Enter integer value: '))\n",
    "except ValueError:\n",
    "    x = True\n",
    "    print('Please, Enter a integer number...!!')\n",
    "\n",
    "\n",
    "if x == True:\n",
    "    pass\n",
    "\n",
    "else:\n",
    "    for i in range(2, val):\n",
    "        if val % i == 0:\n",
    "            print(val, 'is not a prime number')\n",
    "            break\n",
    "    else:\n",
    "        print(val, 'is a prime number')"
   ]
  },
  {
   "cell_type": "markdown",
   "metadata": {},
   "source": [
    "### 51. check alpha or not"
   ]
  },
  {
   "cell_type": "code",
   "execution_count": 30,
   "metadata": {},
   "outputs": [
    {
     "name": "stdout",
     "output_type": "stream",
     "text": [
      "Enter any character: a12d\n",
      "a is an alphabet\n",
      "1 is not an alphabet\n",
      "2 is not an alphabet\n",
      "d is an alphabet\n"
     ]
    }
   ],
   "source": [
    "char = input('Enter any character: ')\n",
    "\n",
    "for i in char:\n",
    "    check = i.isalpha()\n",
    "\n",
    "    if check:\n",
    "        print(i + ' is an alphabet')\n",
    "\n",
    "    else:\n",
    "        print(i + ' is not an alphabet')"
   ]
  },
  {
   "cell_type": "markdown",
   "metadata": {},
   "source": [
    "### 52. check vowel or not"
   ]
  },
  {
   "cell_type": "code",
   "execution_count": 34,
   "metadata": {},
   "outputs": [
    {
     "name": "stdout",
     "output_type": "stream",
     "text": [
      "Enter any character: AdEgfi\n",
      "A is a vowel\n",
      "d is not a vowel\n",
      "E is a vowel\n",
      "g is not a vowel\n",
      "f is not a vowel\n",
      "i is a vowel\n"
     ]
    }
   ],
   "source": [
    "vowels = ['a', 'e', 'i', 'o', 'u', 'A', 'E', 'I', 'O', 'U']\n",
    "\n",
    "char = input('Enter any character: ')\n",
    "#char = char.casefold()\n",
    "\n",
    "for i in char:\n",
    "    if i in vowels:\n",
    "        print(i + ' is a vowel')\n",
    "    \n",
    "    else:\n",
    "        print(i + ' is not a vowel')\n"
   ]
  },
  {
   "cell_type": "markdown",
   "metadata": {},
   "source": [
    "### 53. check leap year or not"
   ]
  },
  {
   "cell_type": "code",
   "execution_count": 46,
   "metadata": {},
   "outputs": [
    {
     "name": "stdout",
     "output_type": "stream",
     "text": [
      "Enter a year: 2020\n",
      "2020  is leap year\n"
     ]
    }
   ],
   "source": [
    "year = int(input('Enter a year: '))\n",
    "\n",
    "if year % 4 == 0:\n",
    "    if year % 100 == 0:\n",
    "        if year % 400 == 0:\n",
    "            print(year, ' is leap year')\n",
    "        \n",
    "        else:\n",
    "            print(year, ' is not leap year')\n",
    "    \n",
    "    else:\n",
    "        print(year, ' is leap year')\n",
    "    \n",
    "else:\n",
    "    print(year, 'is not leap year')"
   ]
  },
  {
   "cell_type": "markdown",
   "metadata": {},
   "source": [
    "### 54. reverse the number"
   ]
  },
  {
   "cell_type": "code",
   "execution_count": 2,
   "metadata": {},
   "outputs": [
    {
     "name": "stdout",
     "output_type": "stream",
     "text": [
      "Enter a number: 231\n",
      "Number is 231\n",
      "Reverse of the number is 132\n"
     ]
    }
   ],
   "source": [
    "num = int(input('Enter a number: '))\n",
    "print('Number is', num)\n",
    "\n",
    "r = 0\n",
    "\n",
    "while num:\n",
    "    d = num % 10\n",
    "    r = (r * 10) + d\n",
    "    num //= 10\n",
    "\n",
    "print('Reverse of the number is', r)"
   ]
  },
  {
   "cell_type": "markdown",
   "metadata": {},
   "source": [
    "### 55. check if reverse of the number is equal to the number"
   ]
  },
  {
   "cell_type": "code",
   "execution_count": 4,
   "metadata": {},
   "outputs": [
    {
     "name": "stdout",
     "output_type": "stream",
     "text": [
      "Enter a number: 242\n",
      "Number is 242\n",
      "Reverse of the number is 242\n",
      "242 == 242\n"
     ]
    }
   ],
   "source": [
    "num = int(input('Enter a number: '))\n",
    "print('Number is', num)\n",
    "\n",
    "r = 0\n",
    "n = num\n",
    "while n:\n",
    "    d = n % 10\n",
    "    r = (r * 10) + d\n",
    "    n //= 10\n",
    "\n",
    "print('Reverse of the number is', r)\n",
    "\n",
    "if num == r:\n",
    "    print(num,'==', r)\n",
    "\n",
    "else:\n",
    "    print(num,'!=', r)"
   ]
  },
  {
   "cell_type": "markdown",
   "metadata": {},
   "source": [
    "### 56. check number is positive, negative or zero"
   ]
  },
  {
   "cell_type": "code",
   "execution_count": 8,
   "metadata": {},
   "outputs": [
    {
     "name": "stdout",
     "output_type": "stream",
     "text": [
      "Enter a number: 0\n",
      "0 is zero\n"
     ]
    }
   ],
   "source": [
    "num = int(input('Enter a number: '))\n",
    "\n",
    "if num > 0:\n",
    "    print(num, 'is positive number')\n",
    "\n",
    "elif num < 0:\n",
    "    print(num, 'is negative number')\n",
    "    \n",
    "else:\n",
    "    print(num, 'is zero')"
   ]
  },
  {
   "cell_type": "markdown",
   "metadata": {},
   "source": [
    "### 57. simple python calculator"
   ]
  },
  {
   "cell_type": "code",
   "execution_count": 1,
   "metadata": {},
   "outputs": [
    {
     "name": "stdout",
     "output_type": "stream",
     "text": [
      "Add: 6\n",
      "Sub: -4\n",
      "Mul: 36\n",
      "Div: 2\n"
     ]
    }
   ],
   "source": [
    "def add(*args):\n",
    "    s_add = 0\n",
    "    for i in args:\n",
    "        s_add = s_add + i\n",
    "    return s_add\n",
    "\n",
    "def sub(*args):\n",
    "    s_sub = args[0]\n",
    "    for i in args[1:]:\n",
    "        s_sub = s_sub - i\n",
    "    return s_sub\n",
    "\n",
    "def mul(*args):\n",
    "    m = 1\n",
    "    for i in args:\n",
    "        m = m * i\n",
    "    return m\n",
    "\n",
    "def div(*args):\n",
    "    d = args[0]\n",
    "    for i in args[1:]:\n",
    "        d = d // i\n",
    "    return d\n",
    "\n",
    "print('Add:', add(1, 2, 3))\n",
    "print('Sub:', sub(1, 2, 3))\n",
    "print('Mul:', mul(2, 3, 6))\n",
    "print('Div:', div(16, 2, 4))"
   ]
  },
  {
   "cell_type": "markdown",
   "metadata": {},
   "source": [
    "### 58. python calculator"
   ]
  },
  {
   "cell_type": "code",
   "execution_count": 9,
   "metadata": {},
   "outputs": [
    {
     "name": "stdout",
     "output_type": "stream",
     "text": [
      "Enter number of elements: 3\n",
      "Enter an element: 16\n",
      "Enter an element: 4\n",
      "Enter an element: 2\n",
      "argv:  [16, 4, 2]\n",
      "length of argv:  3\n",
      "1. Addition\n",
      "2. Subtraction\n",
      "3. Multiplication\n",
      "4. Classic Division\n",
      "5. Division\n",
      "Enter choice? 1/2/3/4/5: 4\n",
      "Classic Div: 4\n"
     ]
    }
   ],
   "source": [
    "def add(arg):\n",
    "    s_add = 0\n",
    "    for i in arg:\n",
    "        s_add = s_add + i\n",
    "    return s_add\n",
    "\n",
    "def sub(arg):\n",
    "    s_sub = arg[0]\n",
    "    for i in arg[1:]:\n",
    "        s_sub = s_sub - i\n",
    "    return s_sub\n",
    "\n",
    "def mul(arg):\n",
    "    m = 1\n",
    "    for i in arg:\n",
    "        m = m * i\n",
    "    return m\n",
    "\n",
    "def cls_div(arg):\n",
    "    d = arg[0]\n",
    "    for i in arg[1:]:\n",
    "        d = d // i\n",
    "        return d\n",
    "\n",
    "def div(arg):\n",
    "    d = arg[0]\n",
    "    for i in arg[1:]:\n",
    "        d = d / i\n",
    "    return d\n",
    "\n",
    "argv = []    \n",
    "\n",
    "try:\n",
    "    cnt = int(input('Enter number of elements: '))\n",
    "except ValueError as ve:\n",
    "    print(type(ve), '::', ve)\n",
    "    \n",
    "for i in range(0, cnt):\n",
    "    try:\n",
    "        num = int(input('Enter an element: '))\n",
    "    except ValueError as ve:\n",
    "        print(type(ve), '::', ve)\n",
    "        break\n",
    "    argv.append(num)\n",
    "print('argv: ', argv)\n",
    "print('length of argv: ', len(argv))\n",
    "\n",
    "print('1. Addition')\n",
    "print('2. Subtraction')\n",
    "print('3. Multiplication')\n",
    "print('4. Classic Division')\n",
    "print('5. Division')\n",
    "\n",
    "if len(argv) > 0:\n",
    "    try:\n",
    "        choice = int(input('Enter choice? 1/2/3/4/5: '))\n",
    "    except ValueError as ve:\n",
    "        print(type(ve), '::', ve) \n",
    "\n",
    "    if choice == 1:\n",
    "        print('Add:', add(argv))\n",
    "\n",
    "    elif choice == 2:\n",
    "        print('Sub:', sub(argv))\n",
    "\n",
    "    elif choice == 3:\n",
    "        print('Mul:', mul(argv))\n",
    "        \n",
    "    elif choice == 4:\n",
    "        print('Classic Div:', cls_div(argv) )\n",
    "\n",
    "    elif choice == 5:\n",
    "        print('Div:', div(argv))\n",
    "\n",
    "    else:\n",
    "        print('Enter the above given choices 1/2/3/4/5')"
   ]
  },
  {
   "cell_type": "markdown",
   "metadata": {},
   "source": [
    "### 59. add digits of a number"
   ]
  },
  {
   "cell_type": "code",
   "execution_count": 11,
   "metadata": {},
   "outputs": [
    {
     "name": "stdout",
     "output_type": "stream",
     "text": [
      "Enter a number: k\n",
      "<class 'ValueError'> :: invalid literal for int() with base 10: 'k'\n"
     ]
    }
   ],
   "source": [
    "try:\n",
    "    num = int(input('Enter a number: '))\n",
    "except ValueError as ve:\n",
    "    print(type(ve), '::', ve)"
   ]
  },
  {
   "cell_type": "code",
   "execution_count": 12,
   "metadata": {},
   "outputs": [
    {
     "name": "stdout",
     "output_type": "stream",
     "text": [
      "num: 156\n",
      "Sum of digits in 156 is: 12\n"
     ]
    }
   ],
   "source": [
    "print('num:', num)\n",
    "\n",
    "i = num\n",
    "s = 0\n",
    "\n",
    "while i:\n",
    "    d = i % 10\n",
    "    s = s + d\n",
    "    i = i // 10\n",
    "print('Sum of digits in %d is: %d' % (num, s))"
   ]
  },
  {
   "cell_type": "markdown",
   "metadata": {},
   "source": [
    "### 60. find sum of natural numbers"
   ]
  },
  {
   "cell_type": "code",
   "execution_count": 18,
   "metadata": {},
   "outputs": [
    {
     "name": "stdout",
     "output_type": "stream",
     "text": [
      "Enter no. of natural numbers: 10\n",
      "55\n"
     ]
    }
   ],
   "source": [
    "n = int(input('Enter no. of natural numbers: '))\n",
    "s = 0\n",
    "\n",
    "for i in range(n+1):\n",
    "    s = s + i\n",
    "    \n",
    "print(s)"
   ]
  },
  {
   "cell_type": "code",
   "execution_count": null,
   "metadata": {},
   "outputs": [],
   "source": []
  }
 ],
 "metadata": {
  "kernelspec": {
   "display_name": "Python 3",
   "language": "python",
   "name": "python3"
  },
  "language_info": {
   "codemirror_mode": {
    "name": "ipython",
    "version": 3
   },
   "file_extension": ".py",
   "mimetype": "text/x-python",
   "name": "python",
   "nbconvert_exporter": "python",
   "pygments_lexer": "ipython3",
   "version": "3.6.5"
  }
 },
 "nbformat": 4,
 "nbformat_minor": 2
}

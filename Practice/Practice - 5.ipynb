{
 "cells": [
  {
   "cell_type": "markdown",
   "metadata": {},
   "source": [
    "# https://codescracker.com/python/program/index.htm"
   ]
  },
  {
   "cell_type": "markdown",
   "metadata": {},
   "source": [
    "### 61. calculate percentage of marks"
   ]
  },
  {
   "cell_type": "code",
   "execution_count": 8,
   "metadata": {},
   "outputs": [
    {
     "name": "stdout",
     "output_type": "stream",
     "text": [
      "Enter no. of subjects: 7\n",
      "Enter marks in subject: 60\n",
      "Enter marks in subject: 70\n",
      "Enter marks in subject: 75\n",
      "Enter marks in subject: 88\n",
      "Enter marks in subject: 96\n",
      "Enter marks in subject: 74\n",
      "Enter marks in subject: 63\n",
      "Total marks in each subject is 100\n",
      "Marks obtained in each subjects:  [60.0, 70.0, 75.0, 88.0, 96.0, 74.0, 63.0]\n",
      "Total marks in all subjects: 700\n",
      "Total marks obtained in all subjects: 526.0\n",
      "Percentage of marks obtained: 75.14285714285714\n"
     ]
    }
   ],
   "source": [
    "no_of_sub = int(input('Enter no. of subjects: '))\n",
    "total_marks = no_of_sub * 100\n",
    "marks_obtained = 0\n",
    "marks = []\n",
    "\n",
    "for i in range(no_of_sub):\n",
    "    m = float(input('Enter marks in subject: '))\n",
    "    marks.append(m)\n",
    "\n",
    "for j in marks:\n",
    "    marks_obtained = marks_obtained + j\n",
    "    \n",
    "print('Total marks in each subject is 100')\n",
    "print('Marks obtained in each subjects: ', marks)\n",
    "print('Total marks in all subjects:', total_marks)\n",
    "print('Total marks obtained in all subjects:', marks_obtained)\n",
    "\n",
    "percentage = (marks_obtained / total_marks) * 100\n",
    "print('Percentage of marks obtained:', percentage)"
   ]
  },
  {
   "cell_type": "markdown",
   "metadata": {},
   "source": [
    "### 62. calculate average of numbers"
   ]
  },
  {
   "cell_type": "code",
   "execution_count": 12,
   "metadata": {},
   "outputs": [
    {
     "name": "stdout",
     "output_type": "stream",
     "text": [
      "Enter no. of numbers: 6\n",
      "Enter a number: 66\n",
      "Enter a number: 55\n",
      "Enter a number: 99\n",
      "Enter a number: 45\n",
      "Enter a number: 36\n",
      "Enter a number: 23\n",
      "Numbers:  [66, 55, 99, 45, 36, 23]\n",
      "Sum of numbers: 324\n",
      "Average of numbers is: 54.0\n"
     ]
    }
   ],
   "source": [
    "n = int(input('Enter no. of numbers: '))\n",
    "s = 0\n",
    "numbers = []\n",
    "\n",
    "for i in range(n):\n",
    "    m = int(input('Enter a number: '))\n",
    "    numbers.append(m)\n",
    "\n",
    "for j in numbers:\n",
    "    s = s + j\n",
    "    \n",
    "print('Numbers: ', numbers)\n",
    "print('Sum of numbers:', s)\n",
    "\n",
    "avg = s / n\n",
    "print('Average of numbers is:', avg)"
   ]
  },
  {
   "cell_type": "markdown",
   "metadata": {},
   "source": [
    "### 63. calculate grade of student"
   ]
  },
  {
   "cell_type": "code",
   "execution_count": 1,
   "metadata": {},
   "outputs": [
    {
     "name": "stdout",
     "output_type": "stream",
     "text": [
      "Enter no. of subjects: 6\n",
      "Enter marks in subject: 75\n",
      "Enter marks in subject: 64\n",
      "Enter marks in subject: 56\n",
      "Enter marks in subject: 96\n",
      "Enter marks in subject: 88\n",
      "Enter marks in subject: 81\n",
      "Total marks in each subject is 100\n",
      "Marks obtained in each subjects:  [75.0, 64.0, 56.0, 96.0, 88.0, 81.0]\n",
      "Total marks in all subjects: 600\n",
      "Total marks obtained in all subjects: 460.0\n",
      "Percentage of marks obtained: 76.66666666666667\n",
      "Grade A\n"
     ]
    }
   ],
   "source": [
    "no_of_sub = int(input('Enter no. of subjects: '))\n",
    "total_marks = no_of_sub * 100\n",
    "marks_obtained = 0\n",
    "marks = []\n",
    "\n",
    "for i in range(no_of_sub):\n",
    "    m = float(input('Enter marks in subject: '))\n",
    "    marks.append(m)\n",
    "\n",
    "for j in marks:\n",
    "    marks_obtained = marks_obtained + j\n",
    "    \n",
    "print('Total marks in each subject is 100')\n",
    "print('Marks obtained in each subjects: ', marks)\n",
    "print('Total marks in all subjects:', total_marks)\n",
    "print('Total marks obtained in all subjects:', marks_obtained)\n",
    "\n",
    "percentage = (marks_obtained / total_marks) * 100\n",
    "print('Percentage of marks obtained:', percentage)\n",
    "\n",
    "if percentage > 90 and percentage <= 100:\n",
    "    print('Grade Distinction')\n",
    "\n",
    "elif percentage > 80 and percentage <= 90:\n",
    "    print('Grade A+')\n",
    "    \n",
    "elif percentage > 70 and percentage <= 80:\n",
    "    print('Grade A')\n",
    "\n",
    "elif percentage > 60 and percentage <= 70:\n",
    "    print('Grade B')\n",
    "    \n",
    "elif percentage > 50 and percentage <= 60:\n",
    "    print('Grade C')\n",
    "    \n",
    "elif percentage > 40 and percentage <= 50:\n",
    "    print('Grade D')\n",
    "    \n",
    "elif percentage >= 35 and percentage <= 40:\n",
    "    print('Grade E')\n",
    "    \n",
    "elif percentage < 35:\n",
    "    print('Grade Fail')\n",
    "\n",
    "else:\n",
    "    print('Strange...!!')"
   ]
  },
  {
   "cell_type": "markdown",
   "metadata": {},
   "source": [
    "### 64. print multiplication table"
   ]
  },
  {
   "cell_type": "code",
   "execution_count": 3,
   "metadata": {},
   "outputs": [
    {
     "name": "stdout",
     "output_type": "stream",
     "text": [
      "Enter a number: 12\n",
      "Enter the number till multiplication table needed: 20\n",
      "12x 1 = 12\n",
      "12x 2 = 24\n",
      "12x 3 = 36\n",
      "12x 4 = 48\n",
      "12x 5 = 60\n",
      "12x 6 = 72\n",
      "12x 7 = 84\n",
      "12x 8 = 96\n",
      "12x 9 = 108\n",
      "12x 10 = 120\n",
      "12x 11 = 132\n",
      "12x 12 = 144\n",
      "12x 13 = 156\n",
      "12x 14 = 168\n",
      "12x 15 = 180\n",
      "12x 16 = 192\n",
      "12x 17 = 204\n",
      "12x 18 = 216\n",
      "12x 19 = 228\n",
      "12x 20 = 240\n"
     ]
    }
   ],
   "source": [
    "num = int(input('Enter a number: '))\n",
    "m = int(input('Enter the number till multiplication table needed: '))\n",
    "\n",
    "for i in range(1, m+1):\n",
    "    print('%dx %d = %d' % (num, i, num*i))"
   ]
  },
  {
   "cell_type": "markdown",
   "metadata": {},
   "source": [
    "### 65. find the square root of a number"
   ]
  },
  {
   "cell_type": "code",
   "execution_count": 18,
   "metadata": {},
   "outputs": [
    {
     "name": "stdout",
     "output_type": "stream",
     "text": [
      "Enter a number to find its square root: 81\n",
      "Square root of 81 is 9.000000\n"
     ]
    }
   ],
   "source": [
    "try:\n",
    "    num = int(input('Enter a number to find its square root: '))\n",
    "except ValueError as ve:\n",
    "    print(type(ve), '::', ve)\n",
    "\n",
    "if num <= 0:\n",
    "    print('Number must be positive integer number')\n",
    "else:\n",
    "    print('Square root of %d is %f' % (num, num**0.5))"
   ]
  },
  {
   "cell_type": "markdown",
   "metadata": {},
   "source": [
    "### 66. print prime numbers"
   ]
  },
  {
   "cell_type": "code",
   "execution_count": 21,
   "metadata": {},
   "outputs": [
    {
     "name": "stdout",
     "output_type": "stream",
     "text": [
      "Enter starting of the interval: 1\n",
      "Enter stop of the interval: 30\n",
      "2\n",
      "3\n",
      "5\n",
      "7\n",
      "11\n",
      "13\n",
      "17\n",
      "19\n",
      "23\n",
      "29\n"
     ]
    }
   ],
   "source": [
    "srt = int(input('Enter starting of the interval: '))\n",
    "stp = int(input('Enter stop of the interval: '))\n",
    "\n",
    "for num in range(srt, stp + 1):\n",
    "    if num > 1:\n",
    "        for i in range(2, num):\n",
    "            if num % i == 0:\n",
    "                break\n",
    "        else:\n",
    "            print(num)"
   ]
  },
  {
   "cell_type": "markdown",
   "metadata": {},
   "source": [
    "### 67. find numbers divisible by number"
   ]
  },
  {
   "cell_type": "code",
   "execution_count": 23,
   "metadata": {},
   "outputs": [
    {
     "name": "stdout",
     "output_type": "stream",
     "text": [
      "Enter no.of elements in the numbers list: 5\n",
      "Enter the number as element: 24\n",
      "Enter the number as element: 12\n",
      "Enter the number as element: 9\n",
      "Enter the number as element: 13\n",
      "Enter the number as element: 6\n",
      "Enter a number to divide: 6\n",
      "Numbers divisible by 6 are [24, 12, 6]\n"
     ]
    }
   ],
   "source": [
    "numbers = []\n",
    "rng = int(input('Enter no.of elements in the numbers list: '))\n",
    "\n",
    "while rng:\n",
    "    n = int(input('Enter the number as element: '))\n",
    "    numbers.append(n)\n",
    "    rng -= 1\n",
    "\n",
    "num = int(input('Enter a number to divide: '))\n",
    "\n",
    "rs = list(filter(lambda i : (i % num == 0), numbers))\n",
    "print('Numbers divisible by', num, 'are', rs)"
   ]
  },
  {
   "cell_type": "markdown",
   "metadata": {},
   "source": [
    "### 68. find the factors of a number"
   ]
  },
  {
   "cell_type": "code",
   "execution_count": 61,
   "metadata": {},
   "outputs": [
    {
     "name": "stdout",
     "output_type": "stream",
     "text": [
      "Enter a number to find its factors: 24\n",
      "factors of 24 are [1, 2, 3, 4, 6, 8, 12, 24]\n"
     ]
    }
   ],
   "source": [
    "def print_factors(num):\n",
    "    factors = []\n",
    "    for i in range(1, num + 1):\n",
    "        if num % i == 0:\n",
    "            factors.append(i)\n",
    "    print('factors of', num, 'are', factors)\n",
    "\n",
    "num = int(input('Enter a number to find its factors: '))\n",
    "print_factors(num)"
   ]
  },
  {
   "cell_type": "markdown",
   "metadata": {},
   "source": [
    "### 69. find the reverse of a number"
   ]
  },
  {
   "cell_type": "code",
   "execution_count": 25,
   "metadata": {},
   "outputs": [
    {
     "name": "stdout",
     "output_type": "stream",
     "text": [
      "Enter a number: 256\n",
      "Number is 256\n",
      "Reverse of the number is 652\n"
     ]
    }
   ],
   "source": [
    "num = int(input('Enter a number: '))\n",
    "print('Number is', num)\n",
    "\n",
    "r = 0\n",
    "\n",
    "while num:\n",
    "    d = num % 10\n",
    "    r = (r * 10) + d\n",
    "    num //= 10\n",
    "\n",
    "print('Reverse of the number is', r)"
   ]
  },
  {
   "cell_type": "markdown",
   "metadata": {},
   "source": [
    "### 70. swap variables"
   ]
  },
  {
   "cell_type": "code",
   "execution_count": 33,
   "metadata": {},
   "outputs": [
    {
     "name": "stdout",
     "output_type": "stream",
     "text": [
      "Enter value a: hai\n",
      "Enter value b: hello\n",
      "a: hai \n",
      "b:  hello\n",
      "Swapping started....\n",
      "Swapping Successful\n",
      "a: hello \n",
      "b:  hai\n"
     ]
    }
   ],
   "source": [
    "a = input('Enter value a: ')\n",
    "b = input('Enter value b: ')\n",
    "\n",
    "print('a:', a, '\\nb: ', b)\n",
    "print('Swapping started....')\n",
    "temp = a\n",
    "a = b\n",
    "b = temp\n",
    "print('Swapping Successful')\n",
    "print('a:', a, '\\nb: ', b)"
   ]
  },
  {
   "cell_type": "markdown",
   "metadata": {},
   "source": [
    "### 71. swapping two variables with only integer values."
   ]
  },
  {
   "cell_type": "code",
   "execution_count": 35,
   "metadata": {},
   "outputs": [
    {
     "name": "stdout",
     "output_type": "stream",
     "text": [
      "Enter value a: 5\n",
      "Enter value b: 10\n",
      "a: 5 \n",
      "b: 10\n",
      "Swapping started....\n",
      "Swapping Successful\n",
      "a: 10 \n",
      "b: 5\n"
     ]
    }
   ],
   "source": [
    "a = int(input('Enter value a: '))\n",
    "b = int(input('Enter value b: '))\n",
    "\n",
    "print('a:', a, '\\nb:', b)\n",
    "print('Swapping started....')\n",
    "temp = a\n",
    "a = b\n",
    "b = temp\n",
    "print('Swapping Successful')\n",
    "print('a:', a, '\\nb:', b)"
   ]
  },
  {
   "cell_type": "markdown",
   "metadata": {},
   "source": [
    "### 72. find largest of two"
   ]
  },
  {
   "cell_type": "code",
   "execution_count": 38,
   "metadata": {},
   "outputs": [
    {
     "name": "stdout",
     "output_type": "stream",
     "text": [
      "Enter a number a: 6\n",
      "Enter a number b: 3\n",
      "a = 6 is greater than b = 3\n"
     ]
    }
   ],
   "source": [
    "a = int(input('Enter a number a: '))\n",
    "b = int(input('Enter a number b: '))\n",
    "\n",
    "if a > b:\n",
    "    print('a = %d is greater than b = %d' % (a, b))\n",
    "\n",
    "elif a < b:\n",
    "    print('a = %d is less than b = %d' % (a, b))\n",
    "\n",
    "elif a == b:\n",
    "    print('a = %d is equal to b = %d' % (a, b))"
   ]
  },
  {
   "cell_type": "markdown",
   "metadata": {},
   "source": [
    "### 73. find largest of three"
   ]
  },
  {
   "cell_type": "code",
   "execution_count": 47,
   "metadata": {},
   "outputs": [
    {
     "name": "stdout",
     "output_type": "stream",
     "text": [
      "Enter a number a: 15\n",
      "Enter a number b: 20\n",
      "Enter a number c: 25\n",
      "c = 25 is greater than a = 15 and b = 20\n"
     ]
    }
   ],
   "source": [
    "a = int(input('Enter a number a: '))\n",
    "b = int(input('Enter a number b: '))\n",
    "c = int(input('Enter a number c: '))\n",
    "\n",
    "if a > b and a > c:\n",
    "    print('a = %d is greater than b = %d and c = %d' % (a, b, c))\n",
    "\n",
    "elif b > a and b > c:\n",
    "    print('b = %d is greater than a = %d and c = %d' % (b, a, c))\n",
    "\n",
    "elif c > a and c > b:\n",
    "    print('c = %d is greater than a = %d and b = %d' % (c, a, b))\n",
    "\n",
    "elif a == b and a == c:\n",
    "    print('a = %d, b = %d and c = %d are equal ' % (a, b, c))"
   ]
  },
  {
   "cell_type": "markdown",
   "metadata": {},
   "source": [
    "### 74. find factorial of a number"
   ]
  },
  {
   "cell_type": "code",
   "execution_count": 51,
   "metadata": {},
   "outputs": [
    {
     "name": "stdout",
     "output_type": "stream",
     "text": [
      "Enter a number to find its factorial: 6\n",
      "Factorial of 6 is 720\n"
     ]
    }
   ],
   "source": [
    "def factorial(num):\n",
    "    if num == 0 or num == 1:\n",
    "        return 1\n",
    "    else:\n",
    "        return num * factorial(num - 1)\n",
    "\n",
    "num = int(input('Enter a number to find its factorial: '))\n",
    "fact = factorial(num)\n",
    "print('Factorial of %d is %d' % (num, fact))"
   ]
  },
  {
   "cell_type": "markdown",
   "metadata": {},
   "source": [
    "### 75. print ascii values"
   ]
  },
  {
   "cell_type": "code",
   "execution_count": 55,
   "metadata": {},
   "outputs": [
    {
     "name": "stdout",
     "output_type": "stream",
     "text": [
      "0 = \u0000\n",
      "1 = \u0001\n",
      "2 = \u0002\n",
      "3 = \u0003\n",
      "4 = \u0004\n",
      "5 = \u0005\n",
      "6 = \u0006\n",
      "7 = \u0007\n",
      "8 = \b\n",
      "9 = \t\n",
      "10 = \n",
      "\n",
      "11 = \u000b",
      "\n",
      "12 = \f",
      "\n",
      "13 = \r\n",
      "14 = \u000e\n",
      "15 = \u000f\n",
      "16 = \u0010\n",
      "17 = \u0011\n",
      "18 = \u0012\n",
      "19 = \u0013\n",
      "20 = \u0014\n",
      "21 = \u0015\n",
      "22 = \u0016\n",
      "23 = \u0017\n",
      "24 = \u0018\n",
      "25 = \u0019\n",
      "26 = \u001a\n",
      "27 = \u001b\n",
      "28 = \u001c",
      "\n",
      "29 = \u001d",
      "\n",
      "30 = \u001e",
      "\n",
      "31 = \u001f\n",
      "32 =  \n",
      "33 = !\n",
      "34 = \"\n",
      "35 = #\n",
      "36 = $\n",
      "37 = %\n",
      "38 = &\n",
      "39 = '\n",
      "40 = (\n",
      "41 = )\n",
      "42 = *\n",
      "43 = +\n",
      "44 = ,\n",
      "45 = -\n",
      "46 = .\n",
      "47 = /\n",
      "48 = 0\n",
      "49 = 1\n",
      "50 = 2\n",
      "51 = 3\n",
      "52 = 4\n",
      "53 = 5\n",
      "54 = 6\n",
      "55 = 7\n",
      "56 = 8\n",
      "57 = 9\n",
      "58 = :\n",
      "59 = ;\n",
      "60 = <\n",
      "61 = =\n",
      "62 = >\n",
      "63 = ?\n",
      "64 = @\n",
      "65 = A\n",
      "66 = B\n",
      "67 = C\n",
      "68 = D\n",
      "69 = E\n",
      "70 = F\n",
      "71 = G\n",
      "72 = H\n",
      "73 = I\n",
      "74 = J\n",
      "75 = K\n",
      "76 = L\n",
      "77 = M\n",
      "78 = N\n",
      "79 = O\n",
      "80 = P\n",
      "81 = Q\n",
      "82 = R\n",
      "83 = S\n",
      "84 = T\n",
      "85 = U\n",
      "86 = V\n",
      "87 = W\n",
      "88 = X\n",
      "89 = Y\n",
      "90 = Z\n",
      "91 = [\n",
      "92 = \\\n",
      "93 = ]\n",
      "94 = ^\n",
      "95 = _\n",
      "96 = `\n",
      "97 = a\n",
      "98 = b\n",
      "99 = c\n",
      "100 = d\n",
      "101 = e\n",
      "102 = f\n",
      "103 = g\n",
      "104 = h\n",
      "105 = i\n",
      "106 = j\n",
      "107 = k\n",
      "108 = l\n",
      "109 = m\n",
      "110 = n\n",
      "111 = o\n",
      "112 = p\n",
      "113 = q\n",
      "114 = r\n",
      "115 = s\n",
      "116 = t\n",
      "117 = u\n",
      "118 = v\n",
      "119 = w\n",
      "120 = x\n",
      "121 = y\n",
      "122 = z\n",
      "123 = {\n",
      "124 = |\n",
      "125 = }\n",
      "126 = ~\n",
      "127 = \n",
      "128 = \n",
      "129 = \n",
      "130 = \n",
      "131 = \n",
      "132 = \n",
      "133 = ",
      "\n",
      "134 = \n",
      "135 = \n",
      "136 = \n",
      "137 = \n",
      "138 = \n",
      "139 = \n",
      "140 = \n",
      "141 = \n",
      "142 = \n",
      "143 = \n",
      "144 = \n",
      "145 = \n",
      "146 = \n",
      "147 = \n",
      "148 = \n",
      "149 = \n",
      "150 = \n",
      "151 = \n",
      "152 = \n",
      "153 = \n",
      "154 = \n",
      "155 = \n",
      "156 = \n",
      "157 = \n",
      "158 = \n",
      "159 = \n",
      "160 =  \n",
      "161 = ¡\n",
      "162 = ¢\n",
      "163 = £\n",
      "164 = ¤\n",
      "165 = ¥\n",
      "166 = ¦\n",
      "167 = §\n",
      "168 = ¨\n",
      "169 = ©\n",
      "170 = ª\n",
      "171 = «\n",
      "172 = ¬\n",
      "173 = ­\n",
      "174 = ®\n",
      "175 = ¯\n",
      "176 = °\n",
      "177 = ±\n",
      "178 = ²\n",
      "179 = ³\n",
      "180 = ´\n",
      "181 = µ\n",
      "182 = ¶\n",
      "183 = ·\n",
      "184 = ¸\n",
      "185 = ¹\n",
      "186 = º\n",
      "187 = »\n",
      "188 = ¼\n",
      "189 = ½\n",
      "190 = ¾\n",
      "191 = ¿\n",
      "192 = À\n",
      "193 = Á\n",
      "194 = Â\n",
      "195 = Ã\n",
      "196 = Ä\n",
      "197 = Å\n",
      "198 = Æ\n",
      "199 = Ç\n",
      "200 = È\n",
      "201 = É\n",
      "202 = Ê\n",
      "203 = Ë\n",
      "204 = Ì\n",
      "205 = Í\n",
      "206 = Î\n",
      "207 = Ï\n",
      "208 = Ð\n",
      "209 = Ñ\n",
      "210 = Ò\n",
      "211 = Ó\n",
      "212 = Ô\n",
      "213 = Õ\n",
      "214 = Ö\n",
      "215 = ×\n",
      "216 = Ø\n",
      "217 = Ù\n",
      "218 = Ú\n",
      "219 = Û\n",
      "220 = Ü\n",
      "221 = Ý\n",
      "222 = Þ\n",
      "223 = ß\n",
      "224 = à\n",
      "225 = á\n",
      "226 = â\n",
      "227 = ã\n",
      "228 = ä\n",
      "229 = å\n",
      "230 = æ\n",
      "231 = ç\n",
      "232 = è\n",
      "233 = é\n",
      "234 = ê\n",
      "235 = ë\n",
      "236 = ì\n",
      "237 = í\n",
      "238 = î\n",
      "239 = ï\n",
      "240 = ð\n",
      "241 = ñ\n",
      "242 = ò\n",
      "243 = ó\n",
      "244 = ô\n",
      "245 = õ\n",
      "246 = ö\n",
      "247 = ÷\n",
      "248 = ø\n",
      "249 = ù\n",
      "250 = ú\n",
      "251 = û\n",
      "252 = ü\n",
      "253 = ý\n",
      "254 = þ\n",
      "255 = ÿ\n"
     ]
    }
   ],
   "source": [
    "for i in range(0, 256):\n",
    "    print(i, '=', chr(i))"
   ]
  },
  {
   "cell_type": "code",
   "execution_count": null,
   "metadata": {},
   "outputs": [],
   "source": []
  }
 ],
 "metadata": {
  "kernelspec": {
   "display_name": "Python 3",
   "language": "python",
   "name": "python3"
  },
  "language_info": {
   "codemirror_mode": {
    "name": "ipython",
    "version": 3
   },
   "file_extension": ".py",
   "mimetype": "text/x-python",
   "name": "python",
   "nbconvert_exporter": "python",
   "pygments_lexer": "ipython3",
   "version": "3.6.5"
  }
 },
 "nbformat": 4,
 "nbformat_minor": 2
}

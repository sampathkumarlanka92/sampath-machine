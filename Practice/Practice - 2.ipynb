{
 "cells": [
  {
   "cell_type": "markdown",
   "metadata": {},
   "source": [
    "### 16. find factorial of a number"
   ]
  },
  {
   "cell_type": "code",
   "execution_count": 10,
   "metadata": {},
   "outputs": [
    {
     "name": "stdout",
     "output_type": "stream",
     "text": [
      "Enter a number: 6\n",
      "Factorial of 6 is 720\n"
     ]
    }
   ],
   "source": [
    "num = int(input('Enter a number: '))\n",
    "\n",
    "fact = 1\n",
    "\n",
    "if num < 0:\n",
    "    print('Enter non-negative number')\n",
    "    \n",
    "elif num == 0:\n",
    "    print('Factorial of %d is 1' % num)\n",
    "\n",
    "else:\n",
    "    for i in range(1, num + 1):\n",
    "        fact = fact * i\n",
    "    print(\"Factorial of %d is %d\" % (num, fact))"
   ]
  },
  {
   "cell_type": "markdown",
   "metadata": {},
   "source": [
    "### 17. display the multiplication table"
   ]
  },
  {
   "cell_type": "code",
   "execution_count": 15,
   "metadata": {},
   "outputs": [
    {
     "name": "stdout",
     "output_type": "stream",
     "text": [
      "Enter a number: 2\n",
      "Enter a number to stop multiplication table: 10\n",
      "2 * 1 = 2\n",
      "2 * 2 = 4\n",
      "2 * 3 = 6\n",
      "2 * 4 = 8\n",
      "2 * 5 = 10\n",
      "2 * 6 = 12\n",
      "2 * 7 = 14\n",
      "2 * 8 = 16\n",
      "2 * 9 = 18\n",
      "2 * 10 = 20\n"
     ]
    }
   ],
   "source": [
    "num = int(input('Enter a number: '))\n",
    "\n",
    "stp = int(input('Enter a number to stop multiplication table: '))\n",
    "\n",
    "for i in range(1, stp + 1):\n",
    "    print('%d * %d = %d' % (num, i, num* i))"
   ]
  },
  {
   "cell_type": "markdown",
   "metadata": {},
   "source": [
    "### 18. print fibonacci sequence"
   ]
  },
  {
   "cell_type": "code",
   "execution_count": 21,
   "metadata": {},
   "outputs": [
    {
     "name": "stdout",
     "output_type": "stream",
     "text": [
      "Enter no. of terms: 10\n",
      "Fibonacci series upto 10: \n",
      "0, 1, 1, 2, 3, 5, 8, 13, 21, 34\n"
     ]
    }
   ],
   "source": [
    "terms = int(input('Enter no. of terms: '))\n",
    "\n",
    "n1 = 0\n",
    "n2 = 1\n",
    "cnt = 0\n",
    "\n",
    "if terms <= 0:\n",
    "    print('Enter a positive number')\n",
    "\n",
    "elif terms == 1:\n",
    "    print('Fibonacci series upto %d: %d' % (terms, n1))\n",
    "    \n",
    "else:\n",
    "    print('Fibonacci series upto %d: ' % terms)\n",
    "    while cnt < terms:\n",
    "        if cnt < terms - 1:\n",
    "            print(n1, end = ', ')\n",
    "            nth = n1 + n2\n",
    "            n1 = n2\n",
    "            n2 = nth\n",
    "            cnt += 1\n",
    "        else:\n",
    "            print(n1)\n",
    "            nth = n1 + n2\n",
    "            n1 = n2\n",
    "            n2 = nth\n",
    "            cnt += 1"
   ]
  },
  {
   "cell_type": "markdown",
   "metadata": {},
   "source": [
    "### 19. check armstrong number"
   ]
  },
  {
   "cell_type": "code",
   "execution_count": 37,
   "metadata": {},
   "outputs": [
    {
     "name": "stdout",
     "output_type": "stream",
     "text": [
      "Enter a number: 1634\n",
      "No. of digits in 1634 are 4\n",
      "1634 is an Armstrong number\n"
     ]
    }
   ],
   "source": [
    "num = int(input('Enter a number: '))\n",
    "\n",
    "# find number of digits in the number\n",
    "temp1 = num\n",
    "cnt = 0\n",
    "while temp1:\n",
    "    temp1 = temp1 // 10\n",
    "    cnt += 1\n",
    "\n",
    "print('No. of digits in %d are %d' % (num, cnt))\n",
    "\n",
    "# check armstrong number\n",
    "\n",
    "s = 0\n",
    "temp2 = num\n",
    "\n",
    "while temp2:\n",
    "    digit = temp2 % 10\n",
    "    temp2 = temp2 // 10\n",
    "    s += digit ** cnt\n",
    "\n",
    "if s == num:\n",
    "    print('%d is an Armstrong number' % num)\n",
    "\n",
    "else:\n",
    "    print('%d is not an Armstrong number' % num)"
   ]
  },
  {
   "cell_type": "markdown",
   "metadata": {},
   "source": [
    "### 20. check armstrong number in given interval"
   ]
  },
  {
   "cell_type": "code",
   "execution_count": 45,
   "metadata": {},
   "outputs": [
    {
     "name": "stdout",
     "output_type": "stream",
     "text": [
      "Enter start of the interval: 0\n",
      "Enter stop of the interval: 10000\n",
      "[0, 1, 2, 3, 4, 5, 6, 7, 8, 9, 153, 370, 371, 407, 1634, 8208, 9474]\n"
     ]
    }
   ],
   "source": [
    "srt = int(input('Enter start of the interval: '))\n",
    "stp = int(input('Enter stop of the interval: '))\n",
    "armstrong_list = []\n",
    "\n",
    "# find number of digits in the number\n",
    "for num in range(srt, stp + 1):\n",
    "    temp1 = num\n",
    "    cnt = 0\n",
    "    while temp1:\n",
    "        temp1 = temp1 // 10\n",
    "        cnt += 1\n",
    "\n",
    "    #print('No. of digits in %d are %d' % (num, cnt))\n",
    "\n",
    "    # check armstrong number\n",
    "\n",
    "    s = 0\n",
    "    temp2 = num\n",
    "\n",
    "    while temp2:\n",
    "        digit = temp2 % 10\n",
    "        temp2 = temp2 // 10\n",
    "        s += digit ** cnt\n",
    "\n",
    "    if s == num:\n",
    "        armstrong_list.append(num)\n",
    "\n",
    "print(armstrong_list)"
   ]
  },
  {
   "cell_type": "markdown",
   "metadata": {},
   "source": [
    "### 21. find sum of natural numbers"
   ]
  },
  {
   "cell_type": "code",
   "execution_count": 57,
   "metadata": {},
   "outputs": [
    {
     "name": "stdout",
     "output_type": "stream",
     "text": [
      "No. of natural numbers: 5\n",
      "Sum of first 5 natural numbers is 15\n"
     ]
    }
   ],
   "source": [
    "n = int(input('No. of natural numbers: '))\n",
    "s = 0\n",
    "\n",
    "if n < 0:\n",
    "    print('Enter positive number')\n",
    "\n",
    "else:\n",
    "    for i in range(1, n + 1):\n",
    "        s += i\n",
    "    \n",
    "print('Sum of first %d natural numbers is %d' % (n, s))"
   ]
  },
  {
   "cell_type": "markdown",
   "metadata": {},
   "source": [
    "### 22. display power of a number using anonymous function (lambda)"
   ]
  },
  {
   "cell_type": "code",
   "execution_count": 59,
   "metadata": {},
   "outputs": [
    {
     "name": "stdout",
     "output_type": "stream",
     "text": [
      "Enter number to find its powers: 3\n",
      "Enter no. of terms: 10\n",
      "3 ** 0 = 1\n",
      "3 ** 1 = 3\n",
      "3 ** 2 = 9\n",
      "3 ** 3 = 27\n",
      "3 ** 4 = 81\n",
      "3 ** 5 = 243\n",
      "3 ** 6 = 729\n",
      "3 ** 7 = 2187\n",
      "3 ** 8 = 6561\n",
      "3 ** 9 = 19683\n"
     ]
    }
   ],
   "source": [
    "num = int(input('Enter number to find its powers: '))\n",
    "terms = int(input('Enter no. of terms: '))\n",
    "\n",
    "rs = list(map(lambda x : num ** x, range(terms)))\n",
    "\n",
    "for i in range(terms):\n",
    "    print('%d ** %d = %d' %(num, i, rs[i]))"
   ]
  },
  {
   "cell_type": "markdown",
   "metadata": {},
   "source": [
    "### 23. find numbers divisible by another divisible"
   ]
  },
  {
   "cell_type": "code",
   "execution_count": 64,
   "metadata": {},
   "outputs": [
    {
     "name": "stdout",
     "output_type": "stream",
     "text": [
      "Enter no. of elements in list: 13\n",
      "Enter element: 21\n",
      "Enter element: 26\n",
      "Enter element: 39\n",
      "Enter element: 36\n",
      "Enter element: 54\n",
      "Enter element: 52\n",
      "Enter element: 87\n",
      "Enter element: 46\n",
      "Enter element: 49\n",
      "Enter element: 13\n",
      "Enter element: 56\n",
      "Enter element: 72\n",
      "Enter element: 22\n",
      "a_list: [21, 26, 39, 36, 54, 52, 87, 46, 49, 13, 56, 72, 22]\n",
      "Enter divisor: 13\n",
      "rs: [26, 39, 52, 13]\n"
     ]
    }
   ],
   "source": [
    "a_list = []\n",
    "terms = int(input('Enter no. of elements in list: '))\n",
    "cnt = 0\n",
    "\n",
    "while terms != cnt:\n",
    "    a = int(input('Enter element: '))\n",
    "    a_list.append(a)\n",
    "    cnt += 1\n",
    "\n",
    "print('a_list:', a_list)\n",
    "\n",
    "div = int(input('Enter divisor: '))\n",
    "\n",
    "rs = list(filter(lambda x : (x % div == 0), a_list))\n",
    "\n",
    "print('rs:', rs)"
   ]
  },
  {
   "cell_type": "markdown",
   "metadata": {},
   "source": [
    "### 24. convert decimal to binary, octal and hexadecimal"
   ]
  },
  {
   "cell_type": "code",
   "execution_count": 66,
   "metadata": {},
   "outputs": [
    {
     "name": "stdout",
     "output_type": "stream",
     "text": [
      "Enter number: 10\n",
      "Binary value of %d is: 0b1010\n",
      "Octal value of %d is: 0o12\n",
      "Hexadecimal value of %d is: 0xa\n"
     ]
    }
   ],
   "source": [
    "num = int(input('Enter number: '))\n",
    "\n",
    "b = bin(num)\n",
    "o = oct(num)\n",
    "hd = hex(num)\n",
    "\n",
    "print('Binary value of %d is:', b)\n",
    "print('Octal value of %d is:', o)\n",
    "print('Hexadecimal value of %d is:', hd)"
   ]
  },
  {
   "cell_type": "markdown",
   "metadata": {},
   "source": [
    "### 25. find ascii value of character"
   ]
  },
  {
   "cell_type": "code",
   "execution_count": 73,
   "metadata": {},
   "outputs": [
    {
     "name": "stdout",
     "output_type": "stream",
     "text": [
      "Enter a character: D\n",
      "The ASCII value of D is:  68\n"
     ]
    }
   ],
   "source": [
    "char = input('Enter a character: ')\n",
    "\n",
    "print('The ASCII value of ' + char + ' is: ', ord(char) )"
   ]
  },
  {
   "cell_type": "markdown",
   "metadata": {},
   "source": [
    "### 26. find HCF or GCD"
   ]
  },
  {
   "cell_type": "code",
   "execution_count": 81,
   "metadata": {},
   "outputs": [
    {
     "name": "stdout",
     "output_type": "stream",
     "text": [
      "Enter no. of elements in list: 3\n",
      "Enter element: 120\n",
      "Enter element: 40\n",
      "Enter element: 60\n",
      "a_list: [120, 40, 60]\n"
     ]
    },
    {
     "data": {
      "text/plain": [
       "20"
      ]
     },
     "execution_count": 81,
     "metadata": {},
     "output_type": "execute_result"
    }
   ],
   "source": [
    "from math import gcd\n",
    "from functools import reduce\n",
    "\n",
    "a_list = []\n",
    "terms = int(input('Enter no. of elements in list: '))\n",
    "cnt = 0\n",
    "\n",
    "while terms != cnt:\n",
    "    a = int(input('Enter element: '))\n",
    "    a_list.append(a)\n",
    "    cnt += 1\n",
    "\n",
    "print('a_list:', a_list)\n",
    "#gcd(a_list)\n",
    "reduce(gcd, a_list)"
   ]
  },
  {
   "cell_type": "markdown",
   "metadata": {},
   "source": [
    "### 27. find LCM"
   ]
  },
  {
   "cell_type": "code",
   "execution_count": 3,
   "metadata": {},
   "outputs": [
    {
     "name": "stdout",
     "output_type": "stream",
     "text": [
      "Enter no. of elements in list: 3\n",
      "Enter element: 65\n",
      "Enter element: 5\n",
      "Enter element: 10\n",
      "a_list: [65, 5, 10]\n"
     ]
    },
    {
     "data": {
      "text/plain": [
       "130"
      ]
     },
     "execution_count": 3,
     "metadata": {},
     "output_type": "execute_result"
    }
   ],
   "source": [
    "from math import gcd\n",
    "from functools import reduce\n",
    "\n",
    "def lcm(a, b):\n",
    "    return (a * b) // gcd(a, b)\n",
    "\n",
    "a_list = []\n",
    "terms = int(input('Enter no. of elements in list: '))\n",
    "cnt = 0\n",
    "\n",
    "while terms != cnt:\n",
    "    a = int(input('Enter element: '))\n",
    "    a_list.append(a)\n",
    "    cnt += 1\n",
    "\n",
    "print('a_list:', a_list)\n",
    "\n",
    "reduce(lcm, a_list, 1)"
   ]
  },
  {
   "cell_type": "markdown",
   "metadata": {},
   "source": [
    "### 28. find the factors of the given number"
   ]
  },
  {
   "cell_type": "code",
   "execution_count": 7,
   "metadata": {},
   "outputs": [
    {
     "name": "stdout",
     "output_type": "stream",
     "text": [
      "Enter number to find its factors: 24\n",
      "The factors of 24 are: \n",
      "1\n",
      "2\n",
      "3\n",
      "4\n",
      "6\n",
      "8\n",
      "12\n",
      "24\n"
     ]
    }
   ],
   "source": [
    "def factors(num):\n",
    "    print('The factors of', num, 'are: ')\n",
    "    for i in range(1, num + 1):\n",
    "        if num % i == 0:\n",
    "            print(i)\n",
    "\n",
    "num = int(input('Enter number to find its factors: '))\n",
    "factors(num)"
   ]
  },
  {
   "cell_type": "markdown",
   "metadata": {},
   "source": [
    "### 29. make a simple calculator"
   ]
  },
  {
   "cell_type": "code",
   "execution_count": 46,
   "metadata": {},
   "outputs": [
    {
     "name": "stdout",
     "output_type": "stream",
     "text": [
      "10\n",
      "-17\n",
      "48\n",
      "1.3333333333333333\n"
     ]
    }
   ],
   "source": [
    "def add(*args):\n",
    "    s = 0\n",
    "    for i in args:\n",
    "        s = s + i\n",
    "    return s\n",
    "\n",
    "def sub(*args):\n",
    "    m = args[0]\n",
    "    for i in args[1:]:\n",
    "        m = m - i\n",
    "    return m\n",
    "\n",
    "def mul(*args):\n",
    "    p = 1\n",
    "    for i in args:\n",
    "        p = p * i\n",
    "    return p\n",
    "\n",
    "def divd(*args):\n",
    "    d = args[0]\n",
    "    for i in args[1:]:\n",
    "        d = d / i\n",
    "    return d\n",
    "\n",
    "print(add(1, 2, 3, 4))\n",
    "print(sub(1, 3, 6, 9))\n",
    "print(mul(3, 2, 8))\n",
    "print(divd(8, 2, 3))"
   ]
  },
  {
   "cell_type": "markdown",
   "metadata": {},
   "source": [
    "### 30. display calendar"
   ]
  },
  {
   "cell_type": "code",
   "execution_count": 57,
   "metadata": {},
   "outputs": [
    {
     "name": "stdout",
     "output_type": "stream",
     "text": [
      "Enter the month to display: 09\n",
      "Emter the year to display2018\n",
      "\n",
      "   September 2018\n",
      "Mo Tu We Th Fr Sa Su\n",
      "                1  2\n",
      " 3  4  5  6  7  8  9\n",
      "10 11 12 13 14 15 16\n",
      "17 18 19 20 21 22 23\n",
      "24 25 26 27 28 29 30\n",
      "\n"
     ]
    }
   ],
   "source": [
    "import calendar\n",
    "\n",
    "month = int(input('Enter the month to display: '))\n",
    "year = int(input('Emter the year to display'))\n",
    "\n",
    "print()\n",
    "print(calendar.month(year, month))"
   ]
  },
  {
   "cell_type": "code",
   "execution_count": null,
   "metadata": {},
   "outputs": [],
   "source": []
  },
  {
   "cell_type": "code",
   "execution_count": null,
   "metadata": {},
   "outputs": [],
   "source": []
  }
 ],
 "metadata": {
  "kernelspec": {
   "display_name": "Python 3",
   "language": "python",
   "name": "python3"
  }
 },
 "nbformat": 4,
 "nbformat_minor": 2
}

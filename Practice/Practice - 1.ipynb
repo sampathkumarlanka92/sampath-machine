{
 "cells": [
  {
   "cell_type": "markdown",
   "metadata": {},
   "source": [
    "## https://programiz.com/python-programming/examples"
   ]
  },
  {
   "cell_type": "markdown",
   "metadata": {},
   "source": [
    "### 1. print hello world"
   ]
  },
  {
   "cell_type": "code",
   "execution_count": 2,
   "metadata": {},
   "outputs": [
    {
     "name": "stdout",
     "output_type": "stream",
     "text": [
      "Hello World!!\n"
     ]
    }
   ],
   "source": [
    "print('Hello World!!')"
   ]
  },
  {
   "cell_type": "markdown",
   "metadata": {},
   "source": [
    "### 2. add two numbers"
   ]
  },
  {
   "cell_type": "code",
   "execution_count": 7,
   "metadata": {},
   "outputs": [
    {
     "name": "stdout",
     "output_type": "stream",
     "text": [
      "Enter a number a: 6\n",
      "Enter a number b: 5\n",
      "Sum of 6 and 5 = 11\n"
     ]
    }
   ],
   "source": [
    "a = int(input('Enter a number a: '))\n",
    "b = int(input('Enter a number b: '))\n",
    "c = a + b\n",
    "print('Sum of %d and %d = %d' % (a, b, c))"
   ]
  },
  {
   "cell_type": "markdown",
   "metadata": {},
   "source": [
    "### 3. find square root"
   ]
  },
  {
   "cell_type": "code",
   "execution_count": 10,
   "metadata": {},
   "outputs": [
    {
     "name": "stdout",
     "output_type": "stream",
     "text": [
      "Enter a number x: 16\n",
      "4.0\n"
     ]
    }
   ],
   "source": [
    "x = int(input('Enter a number x: '))\n",
    "x_sqrt = x ** 0.5\n",
    "print(x_sqrt)"
   ]
  },
  {
   "cell_type": "markdown",
   "metadata": {},
   "source": [
    "### 4. calculate area of triangle"
   ]
  },
  {
   "cell_type": "code",
   "execution_count": 11,
   "metadata": {},
   "outputs": [],
   "source": [
    "# s = (a + b + c) / 2\n",
    "# area = (s * (s - a) * (s - b) * (s - c)) ** 0.5"
   ]
  },
  {
   "cell_type": "code",
   "execution_count": 14,
   "metadata": {},
   "outputs": [
    {
     "name": "stdout",
     "output_type": "stream",
     "text": [
      "Enter length of side a: 5\n",
      "Enter length of side b: 6\n",
      "Enter length of side c: 7\n",
      "9.0\n",
      "area of triangle: 14.696938456699069\n",
      "area of triangle: 14.70\n"
     ]
    }
   ],
   "source": [
    "a = int(input(\"Enter length of side a: \"))\n",
    "b = int(input(\"Enter length of side b: \"))\n",
    "c = int(input(\"Enter length of side c: \"))\n",
    "\n",
    "s = (a + b + c) / 2\n",
    "print(s)\n",
    "\n",
    "area = (s * (s - a) * (s - b) * (s - c)) ** 0.5\n",
    "print('area of triangle:', area)\n",
    "print('area of triangle: %0.2f' % area) # rounding upto 2 decimal points"
   ]
  },
  {
   "cell_type": "markdown",
   "metadata": {},
   "source": [
    "### 5. Solving a quadratic equation a * (x ** 2) + bx + c"
   ]
  },
  {
   "cell_type": "code",
   "execution_count": 17,
   "metadata": {},
   "outputs": [],
   "source": [
    "# quadratic formula = (-b +/- sqrt(b**2 - 4ac))/2a"
   ]
  },
  {
   "cell_type": "code",
   "execution_count": 18,
   "metadata": {},
   "outputs": [],
   "source": [
    "import cmath"
   ]
  },
  {
   "cell_type": "code",
   "execution_count": 19,
   "metadata": {},
   "outputs": [
    {
     "name": "stdout",
     "output_type": "stream",
     "text": [
      "Enter a: 1\n",
      "Enter b: 5\n",
      "Enter c: 6\n",
      "The solutions are (-2+0j) and (-3+0j)\n"
     ]
    }
   ],
   "source": [
    "a = float(input(\"Enter a: \"))\n",
    "b = float(input(\"Enter b: \"))\n",
    "c = float(input(\"Enter c: \"))\n",
    "\n",
    "qud_for1 = (-b + cmath.sqrt(b**2 - 4*a*c))/2*a\n",
    "qud_for2 = (-b - cmath.sqrt(b**2 - 4*a*c))/2*a\n",
    "\n",
    "print('The solutions are {0} and {1}'.format(qud_for1, qud_for2))"
   ]
  },
  {
   "cell_type": "markdown",
   "metadata": {},
   "source": [
    "### 6. swap two variables"
   ]
  },
  {
   "cell_type": "code",
   "execution_count": 22,
   "metadata": {},
   "outputs": [
    {
     "name": "stdout",
     "output_type": "stream",
     "text": [
      "Enter a: 12\n",
      "Enter b: 23\n",
      "*****before swapping*****\n",
      "a: 12\n",
      "b: 23\n",
      "*****after swapping*****\n",
      "a: 23\n",
      "b: 12\n"
     ]
    }
   ],
   "source": [
    "a = int(input(\"Enter a: \"))\n",
    "b = int(input(\"Enter b: \"))\n",
    "\n",
    "print(\"*****before swapping*****\")\n",
    "print('a:', a)\n",
    "print('b:', b)\n",
    "\n",
    "# take temporary variable temp\n",
    "\n",
    "temp = a\n",
    "a = b\n",
    "b = temp\n",
    "\n",
    "print(\"*****after swapping*****\")\n",
    "print('a:', a)\n",
    "print('b:', b)"
   ]
  },
  {
   "cell_type": "markdown",
   "metadata": {},
   "source": [
    "### 7. generate a random number"
   ]
  },
  {
   "cell_type": "code",
   "execution_count": 23,
   "metadata": {},
   "outputs": [],
   "source": [
    "import random"
   ]
  },
  {
   "cell_type": "code",
   "execution_count": 33,
   "metadata": {},
   "outputs": [
    {
     "name": "stdout",
     "output_type": "stream",
     "text": [
      "9\n"
     ]
    }
   ],
   "source": [
    "x = random.randint(0 , 9)\n",
    "print(x)"
   ]
  },
  {
   "cell_type": "markdown",
   "metadata": {},
   "source": [
    "### 8. convert kilometers to miles and miles to kilometers"
   ]
  },
  {
   "cell_type": "code",
   "execution_count": 34,
   "metadata": {},
   "outputs": [],
   "source": [
    "# 1 km = 0.621371 miles\n",
    "\n",
    "# 1 mile = 1.609344 kms"
   ]
  },
  {
   "cell_type": "code",
   "execution_count": 44,
   "metadata": {},
   "outputs": [
    {
     "name": "stdout",
     "output_type": "stream",
     "text": [
      "Enter no. of kms: 5.5\n",
      "\n",
      "***** km to miles ******\n",
      "\n",
      "5.500000 km in miles: 3.417540\n",
      "5.500000 km in miles: 3.418\n",
      "Enter no. of miles: 3.523\n",
      "\n",
      "***** miles to km ******\n",
      "\n",
      "3.523000 miles in km: 5.669719\n",
      "3.523 miles in km: 5.670\n"
     ]
    }
   ],
   "source": [
    "km = float(input('Enter no. of kms: '))\n",
    "\n",
    "miles = km * 0.621371\n",
    "\n",
    "print('\\n***** km to miles ******\\n')\n",
    "print('%f km in miles: %f' % (km, miles))\n",
    "print('%f km in miles: %0.3f' % (km, miles))\n",
    "\n",
    "miles = float(input('Enter no. of miles: '))\n",
    "\n",
    "km = miles * 1.609344\n",
    "\n",
    "print('\\n***** miles to km ******\\n')\n",
    "print('%f miles in km: %f' % (miles, km))\n",
    "print('%0.3f miles in km: %0.3f' % (miles, km))"
   ]
  },
  {
   "cell_type": "markdown",
   "metadata": {},
   "source": [
    "### 9. convert celsius to fahrenheit and fahrenheit to celsius"
   ]
  },
  {
   "cell_type": "code",
   "execution_count": 46,
   "metadata": {},
   "outputs": [
    {
     "name": "stdout",
     "output_type": "stream",
     "text": [
      "Enter celsius: 12\n",
      "***** celsius to fahrenheit *****\n",
      "12.000000 celsius in fahrenheit: 53.600000\n",
      "12.000000 celsius in fahrenheit: 53.600\n",
      "Enter fahrenheit: 12\n",
      "***** fahrenheit to celsius *****\n",
      "12.000000 fahrenheit in celsius: -11.111111\n",
      "12.000000 fahrenheit in celsius: -11.111\n"
     ]
    }
   ],
   "source": [
    "cel = float(input('Enter celsius: '))\n",
    "\n",
    "far = (9 / 5) * cel + 32\n",
    "\n",
    "print('***** celsius to fahrenheit *****')\n",
    "print('%f celsius in fahrenheit: %f' % (cel, far))\n",
    "print('%f celsius in fahrenheit: %0.3f' % (cel, far))\n",
    "\n",
    "far = float(input('Enter fahrenheit: '))\n",
    "\n",
    "cel = (5 / 9) * (far - 32)\n",
    "\n",
    "print('***** fahrenheit to celsius *****')\n",
    "print('%f fahrenheit in celsius: %f' % (far, cel))\n",
    "print('%f fahrenheit in celsius: %0.3f' % (far, cel))"
   ]
  },
  {
   "cell_type": "markdown",
   "metadata": {},
   "source": [
    "### 10. check number is positive, negative or zero"
   ]
  },
  {
   "cell_type": "code",
   "execution_count": 59,
   "metadata": {},
   "outputs": [
    {
     "name": "stdout",
     "output_type": "stream",
     "text": [
      "Enter a number: -12\n",
      "-12 is negative number\n"
     ]
    }
   ],
   "source": [
    "num = int(input('Enter a number: '))\n",
    "\n",
    "if num > 0:\n",
    "    print('%d is positive number' % num)\n",
    "\n",
    "elif num < 0:\n",
    "    print('%d is negative number' % num)\n",
    "\n",
    "else:\n",
    "    print('%d is zero' % num)"
   ]
  },
  {
   "cell_type": "markdown",
   "metadata": {},
   "source": [
    "### 11. check number is odd or even"
   ]
  },
  {
   "cell_type": "code",
   "execution_count": 60,
   "metadata": {},
   "outputs": [
    {
     "name": "stdout",
     "output_type": "stream",
     "text": [
      "Enter a number: 379\n",
      "379 is odd number\n"
     ]
    }
   ],
   "source": [
    "num = int(input('Enter a number: '))\n",
    "\n",
    "if num <= 0:\n",
    "    print('Enter positive number')\n",
    "    \n",
    "elif num % 2 == 0:\n",
    "    print('%d is even number' % num)\n",
    "\n",
    "else:\n",
    "    print('%d is odd number' % num)"
   ]
  },
  {
   "cell_type": "markdown",
   "metadata": {},
   "source": [
    "### 12. check leap year"
   ]
  },
  {
   "cell_type": "markdown",
   "metadata": {},
   "source": [
    "To determine whether a year is a leap year, follow these steps: \n",
    "    \n",
    "    a) If the year is evenly divisible by 4, go to step 2. Otherwise, go to step 5.\n",
    "    \n",
    "    b) If the year is evenly divisible by 100, go to step 3. Otherwise, go to step 4.\n",
    "    \n",
    "    c) If the year is evenly divisible by 400, go to step 4. Otherwise, go to step 5.\n",
    "    \n",
    "    d) The year is a leap year (it has 366 days).\n",
    "    \n",
    "    e) The year is not a leap year (it has 365 days)."
   ]
  },
  {
   "cell_type": "code",
   "execution_count": 66,
   "metadata": {},
   "outputs": [
    {
     "name": "stdout",
     "output_type": "stream",
     "text": [
      "Enter year: 2001\n",
      "2001 is not a leap year\n"
     ]
    }
   ],
   "source": [
    "year = int(input('Enter year: '))\n",
    "\n",
    "if year % 4 == 0:\n",
    "    if year % 100 == 0:\n",
    "        if year % 400 == 0:\n",
    "            print('%d is a leap year' % year)\n",
    "        \n",
    "        else:\n",
    "            print('%d is not a leap year' % year)\n",
    "    \n",
    "    else:\n",
    "        print('%d is a leap year' % year)\n",
    "\n",
    "else:\n",
    "    print('%d is not a leap year' % year)"
   ]
  },
  {
   "cell_type": "markdown",
   "metadata": {},
   "source": [
    "### 13. find the largest of three numbers"
   ]
  },
  {
   "cell_type": "code",
   "execution_count": 77,
   "metadata": {},
   "outputs": [
    {
     "name": "stdout",
     "output_type": "stream",
     "text": [
      "Enter length of side a: 5\n",
      "Enter length of side b: 6\n",
      "Enter length of side c: 7\n",
      "c = 7 is largest\n"
     ]
    }
   ],
   "source": [
    "a = int(input(\"Enter length of side a: \"))\n",
    "b = int(input(\"Enter length of side b: \"))\n",
    "c = int(input(\"Enter length of side c: \"))\n",
    "\n",
    "if a == b and b == c:\n",
    "    print('a = b = c = %d are same' %a)\n",
    "\n",
    "elif a > b and a > c:\n",
    "    print('a = %d is largest' % a)\n",
    "\n",
    "elif b > a and b > c:\n",
    "    print('b = %d is largest' % b)\n",
    "\n",
    "else:\n",
    "    print('c = %d is largest' % c)"
   ]
  },
  {
   "cell_type": "markdown",
   "metadata": {},
   "source": [
    "### 14. check prime number"
   ]
  },
  {
   "cell_type": "code",
   "execution_count": 84,
   "metadata": {},
   "outputs": [
    {
     "name": "stdout",
     "output_type": "stream",
     "text": [
      "Enter num: 23\n",
      "23 is prime\n"
     ]
    }
   ],
   "source": [
    "num = int(input('Enter num: '))\n",
    "\n",
    "if num > 1:\n",
    "    for i in range(2, num):\n",
    "        if num % i == 0:\n",
    "            print('%d is not prime' % num)\n",
    "            print('{0} times of {1} is {2}'.format(i, num//i, num))\n",
    "            break\n",
    "            \n",
    "    else:\n",
    "        print('%d is prime' % num)\n",
    "\n",
    "else:\n",
    "    print('%d is not prime' % num)"
   ]
  },
  {
   "cell_type": "markdown",
   "metadata": {},
   "source": [
    "### 15. print all prime numbers between given intervals"
   ]
  },
  {
   "cell_type": "code",
   "execution_count": 4,
   "metadata": {},
   "outputs": [
    {
     "name": "stdout",
     "output_type": "stream",
     "text": [
      "Enter start of the interval: 2\n",
      "Enter stop of the interval: 33\n",
      "2\n",
      "3\n",
      "5\n",
      "7\n",
      "11\n",
      "13\n",
      "17\n",
      "19\n",
      "23\n",
      "29\n",
      "31\n"
     ]
    }
   ],
   "source": [
    "srt = int(input('Enter start of the interval: '))\n",
    "stp = int(input('Enter stop of the interval: '))\n",
    "\n",
    "for i in range(srt, stp + 1):\n",
    "    if i > 1:\n",
    "        for j in range(2, i):\n",
    "            if i % j == 0:\n",
    "                break\n",
    "        \n",
    "        else:\n",
    "            print(i)"
   ]
  },
  {
   "cell_type": "code",
   "execution_count": null,
   "metadata": {},
   "outputs": [],
   "source": []
  }
 ],
 "metadata": {
  "kernelspec": {
   "display_name": "Python 3",
   "language": "python",
   "name": "python3"
  },
  "language_info": {
   "codemirror_mode": {
    "name": "ipython",
    "version": 3
   },
   "file_extension": ".py",
   "mimetype": "text/x-python",
   "name": "python",
   "nbconvert_exporter": "python",
   "pygments_lexer": "ipython3",
   "version": "3.6.5"
  }
 },
 "nbformat": 4,
 "nbformat_minor": 2
}
